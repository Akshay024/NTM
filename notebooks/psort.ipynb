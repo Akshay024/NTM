{
 "cells": [
  {
   "cell_type": "markdown",
   "metadata": {},
   "source": [
    "# Priority Sort Task Plots"
   ]
  },
  {
   "cell_type": "code",
   "execution_count": null,
   "metadata": {
    "collapsed": true
   },
   "outputs": [],
   "source": [
    "import matplotlib.pyplot as plt\r\n",
    "import numpy as np\r\n",
    "import pandas as pd\r\n",
    "\r\n",
    "from glob import glob\r\n",
    "import json\r\n",
    "import os\r\n",
    "import sys\r\n",
    "sys.path.append(os.path.abspath(os.getcwd() + \"./../\"))\r\n",
    "\r\n",
    "%matplotlib inline"
   ]
  },
  {
   "cell_type": "code",
   "execution_count": null,
   "metadata": {},
   "outputs": [],
   "source": []
  },
  {
   "cell_type": "code",
   "execution_count": null,
   "metadata": {},
   "outputs": [],
   "source": [
    "batch_num = 15000\r\n",
    "files = glob(\"./psort/*-{}.json\".format(batch_num))\r\n",
    "files"
   ]
  },
  {
   "cell_type": "code",
   "execution_count": null,
   "metadata": {},
   "outputs": [],
   "source": [
    "# Read the metrics from the .json files\r\n",
    "history = [json.loads(open(fname, \"rt\").read()) for fname in files]\r\n",
    "training = np.array([(x['cost'], x['loss'], x['seq_lengths']) for x in history])\r\n",
    "print(\"Training history (seed x metric x sequence) =\", training.shape)"
   ]
  },
  {
   "cell_type": "code",
   "execution_count": null,
   "metadata": {},
   "outputs": [],
   "source": [
    "# Average every dv values across each (seed, metric)\r\n",
    "dv = 1000\r\n",
    "training = training.reshape(len(files), 3, -1, dv).mean(axis=3)\r\n",
    "print(training.shape)"
   ]
  },
  {
   "cell_type": "code",
   "execution_count": null,
   "metadata": {},
   "outputs": [],
   "source": [
    "# Average the seeds\r\n",
    "training_mean = training.mean(axis=0)\r\n",
    "training_std = training.std(axis=0)\r\n",
    "print(training_mean.shape)\r\n",
    "print(training_std.shape)"
   ]
  },
  {
   "cell_type": "code",
   "execution_count": null,
   "metadata": {
    "scrolled": true
   },
   "outputs": [],
   "source": [
    "fig = plt.figure(figsize=(12, 5))\r\n",
    "\r\n",
    "# X axis is normalized to thousands\r\n",
    "x = np.arange(dv / 1000, (batch_num / 1000) + (dv / 1000), dv / 1000)\r\n",
    "\r\n",
    "# Plot the cost\r\n",
    "# plt.plot(x, training_mean[0], 'o-', linewidth=2, label='Cost')\r\n",
    "plt.errorbar(x, training_mean[0], yerr=training_std[0], fmt='o-', elinewidth=2, linewidth=2, label='Cost')\r\n",
    "plt.grid()\r\n",
    "plt.yticks(np.arange(0, training_mean[0][0]+5, 5))\r\n",
    "plt.ylabel('Cost per sequence (bits)')\r\n",
    "plt.xlabel('Sequence (thousands)')\r\n",
    "plt.title('Training Convergence', fontsize=16)\r\n",
    "\r\n",
    "ax = plt.axes([.57, .55, .25, .25], facecolor=(0.97, 0.97, 0.97))\r\n",
    "plt.title(\"BCELoss\")\r\n",
    "plt.plot(x, training_mean[1], 'r-', label='BCE Loss')\r\n",
    "plt.yticks(np.arange(0, training_mean[1][0]+0.2, 0.2))\r\n",
    "plt.grid()\r\n",
    "\r\n",
    "plt.show()"
   ]
  },
  {
   "cell_type": "code",
   "execution_count": null,
   "metadata": {
    "scrolled": true
   },
   "outputs": [],
   "source": [
    "loss = history[3]['loss']\r\n",
    "cost = history[3]['cost']\r\n",
    "seq_lengths = history[3]['seq_lengths']\r\n",
    "\r\n",
    "unique_sls = set(seq_lengths)\r\n",
    "all_metric = list(zip(range(1, batch_num+1), seq_lengths, loss, cost))\r\n",
    "\r\n",
    "fig = plt.figure(figsize=(12, 5))\r\n",
    "plt.ylabel('Cost per sequence (bits)')\r\n",
    "plt.xlabel('Iteration (thousands)')\r\n",
    "plt.title('Training Convergence (Per Sequence Length)', fontsize=16)\r\n",
    "\r\n",
    "for sl in unique_sls:\r\n",
    "    sl_metrics = [i for i in all_metric if i[1] == sl]\r\n",
    "\r\n",
    "    x = [i[0] for i in sl_metrics]\r\n",
    "    y = [i[3] for i in sl_metrics]\r\n",
    "    \r\n",
    "    num_pts = len(x) // 50\r\n",
    "    total_pts = num_pts * 50\r\n",
    "    \r\n",
    "    x_mean = [i.mean()/1000 for i in np.split(np.array(x)[:total_pts], num_pts)]\r\n",
    "    y_mean = [i.mean() for i in np.split(np.array(y)[:total_pts], num_pts)]\r\n",
    "    \r\n",
    "    plt.plot(x_mean, y_mean, label='Seq-{}'.format(sl))\r\n",
    "\r\n",
    "plt.yticks(np.arange(0, 80, 5))\r\n",
    "plt.legend(loc=0)\r\n",
    "plt.show()"
   ]
  },
  {
   "cell_type": "markdown",
   "metadata": {
    "collapsed": true
   },
   "source": [
    "# Evaluate"
   ]
  },
  {
   "cell_type": "code",
   "execution_count": null,
   "metadata": {
    "collapsed": true
   },
   "outputs": [],
   "source": [
    "import torch\r\n",
    "from IPython.display import Image as IPythonImage\r\n",
    "from PIL import Image, ImageDraw, ImageFont\r\n",
    "import io\r\n",
    "from tasks.psort import dataloader\r\n",
    "from train import evaluate"
   ]
  },
  {
   "cell_type": "code",
   "execution_count": null,
   "metadata": {
    "collapsed": true
   },
   "outputs": [],
   "source": [
    "from tasks.priority_sort import PrioritySortModelTraining\r\n",
    "model = PrioritySortModelTraining()"
   ]
  },
  {
   "cell_type": "code",
   "execution_count": null,
   "metadata": {
    "collapsed": true
   },
   "outputs": [],
   "source": [
    "model.net.load_state_dict(torch.load(\"./psort/priority_sort-10-batch-1000.model\"))"
   ]
  },
  {
   "cell_type": "code",
   "execution_count": null,
   "metadata": {
    "collapsed": true
   },
   "outputs": [],
   "source": [
    "seq_len = 60\r\n",
    "_, x, y = next(iter(dataloader(1, 1, 8, seq_len, seq_len)))\r\n",
    "result = evaluate(model.net, model.criterion, x, y)\r\n",
    "y_out = result['y_out']"
   ]
  },
  {
   "cell_type": "code",
   "execution_count": null,
   "metadata": {
    "collapsed": true
   },
   "outputs": [],
   "source": [
    "def cmap(value):\r\n",
    "    pixval = value * 255\r\n",
    "    low = 64\r\n",
    "    high = 240\r\n",
    "    factor = (255 - low - (255-high)) / 255\r\n",
    "    return int(low + pixval * factor)\r\n",
    "\r\n",
    "def draw_sequence(y, u=12):\r\n",
    "    seq_len = y.size(0)\r\n",
    "    seq_width = y.size(2)\r\n",
    "    inset = u // 8\r\n",
    "    pad = u // 2\r\n",
    "    width = seq_len * u + 2 * pad\r\n",
    "    height = seq_width * u + 2 * pad\r\n",
    "    im = Image.new('L', (width, height))\r\n",
    "    draw = ImageDraw.ImageDraw(im)\r\n",
    "    draw.rectangle([0, 0, width, height], fill=250)\r\n",
    "    for i in range(seq_len):\r\n",
    "        for j in range(seq_width):\r\n",
    "            val = 1 - y[i, 0, j].data\r\n",
    "            draw.rectangle([pad + i*u + inset,\r\n",
    "                            pad + j*u + inset,\r\n",
    "                            pad + (i+1)*u - inset,\r\n",
    "                            pad + (j+1)*u - inset], fill=cmap(val))\r\n",
    "\r\n",
    "    return im\r\n",
    "\r\n",
    "def im_to_png_bytes(im):\r\n",
    "    png = io.BytesIO()\r\n",
    "    im.save(png, 'PNG')\r\n",
    "    return bytes(png.getbuffer())\r\n",
    "\r\n",
    "def im_vconcat(im1, im2, pad=8):\r\n",
    "    assert im1.size == im2.size\r\n",
    "    w, h = im1.size\r\n",
    "\r\n",
    "    width = w\r\n",
    "    height = h * 2 + pad\r\n",
    "\r\n",
    "    im = Image.new('L', (width, height), color=255)\r\n",
    "    im.paste(im1, (0, 0))\r\n",
    "    im.paste(im2, (0, h+pad))\r\n",
    "    return im"
   ]
  },
  {
   "cell_type": "code",
   "execution_count": null,
   "metadata": {},
   "outputs": [],
   "source": [
    "def make_eval_plot(y, y_out, u=12):\r\n",
    "    im_y = draw_sequence(y, u)\r\n",
    "    im_y_out = draw_sequence(y_out, u)\r\n",
    "    im = im_vconcat(im_y, im_y_out, u//2)\r\n",
    "    \r\n",
    "    w, h = im.size\r\n",
    "    pad_w = u * 7\r\n",
    "    im2 = Image.new('L', (w+pad_w, h), color=255)\r\n",
    "    im2.paste(im, (pad_w, 0))\r\n",
    "    \r\n",
    "    # Add text\r\n",
    "    font = ImageFont.truetype(\"./fonts/PT_Sans-Web-Regular.ttf\", 13)\r\n",
    "    draw = ImageDraw.ImageDraw(im2)\r\n",
    "    draw.text((u,4*u), \"Targets\", font=font)\r\n",
    "    draw.text((u,13*u), \"Outputs\", font=font)\r\n",
    "    \r\n",
    "    return im2\r\n",
    "\r\n",
    "im = make_eval_plot(y, y_out, u=8)\r\n",
    "IPythonImage(im_to_png_bytes(im))"
   ]
  },
  {
   "cell_type": "markdown",
   "metadata": {},
   "source": [
    "## Create an animated GIF\n",
    "\n",
    "Lets see how the prediction looks like in each checkpoint that we saved. "
   ]
  },
  {
   "cell_type": "code",
   "execution_count": null,
   "metadata": {
    "collapsed": true
   },
   "outputs": [],
   "source": [
    "seq_len = 80\r\n",
    "_, x, y = next(iter(dataloader(1, 1, 8, seq_len, seq_len)))\r\n",
    "\r\n",
    "frames = []\r\n",
    "font = ImageFont.truetype(\"./fonts/PT_Sans-Web-Regular.ttf\", 13)\r\n",
    "for batch_num in range(500, 10500, 500):\r\n",
    "    model = PrioritySortTaskModelTraining()\r\n",
    "    model.net.load_state_dict(torch.load(\"./psort/priority_sort-10-batch-{}.model\".format(batch_num)))\r\n",
    "    result = evaluate(model.net, model.criterion, x, y)\r\n",
    "    y_out = result['y_out']\r\n",
    "    frame = make_eval_plot(y, y_out, u=10)\r\n",
    "    \r\n",
    "    w, h = frame.size\r\n",
    "    frame_seq = Image.new('L', (w, h+40), color=255)\r\n",
    "    frame_seq.paste(frame, (0, 40))\r\n",
    "    \r\n",
    "    draw = ImageDraw.ImageDraw(frame_seq)\r\n",
    "    draw.text((10, 10), \"Sequence Num: {} (Cost: {})\".format(batch_num, result['cost']), font=font)\r\n",
    "    \r\n",
    "    frames += [frame_seq]"
   ]
  },
  {
   "cell_type": "code",
   "execution_count": null,
   "metadata": {
    "collapsed": true
   },
   "outputs": [],
   "source": [
    "im = frames[0]\r\n",
    "im.save(\"./psort-80.gif\", save_all=True, append_images=frames[1:], loop=0, duration=1000)\r\n",
    "\r\n",
    "im = frames[0]\r\n",
    "im.save(\"./psort-80-fast.gif\", save_all=True, append_images=frames[1:], loop=0, duration=100)"
   ]
  }
 ],
 "metadata": {
  "interpreter": {
   "hash": "a0eab377de838bae3c7c0169ce5747fc872ad2f4212ebb6c10462b4fd3f29bae"
  },
  "kernelspec": {
   "display_name": "Python 3.7.4 64-bit ('base': conda)",
   "name": "python3"
  },
  "language_info": {
   "codemirror_mode": {
    "name": "ipython",
    "version": 3
   },
   "file_extension": ".py",
   "mimetype": "text/x-python",
   "name": "python",
   "nbconvert_exporter": "python",
   "pygments_lexer": "ipython3",
   "version": "3.7.4"
  }
 },
 "nbformat": 4,
 "nbformat_minor": 2
}